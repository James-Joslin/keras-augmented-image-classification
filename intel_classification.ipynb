{
  "cells": [
    {
      "cell_type": "code",
      "execution_count": null,
      "metadata": {
        "id": "9Y_MjI3v2usE"
      },
      "outputs": [],
      "source": [
        "import tensorflow as tf\n",
        "from keras.losses import SparseCategoricalCrossentropy\n",
        "from keras.callbacks import ReduceLROnPlateau, EarlyStopping, ModelCheckpoint\n",
        "from keras.models import model_from_json\n",
        "\n",
        "import external as ext"
      ]
    },
    {
      "cell_type": "code",
      "execution_count": 2,
      "metadata": {
        "id": "ov-qWvhvJEqf"
      },
      "outputs": [],
      "source": [
        "HEIGHT = 75\n",
        "WIDTH = 75\n",
        "DEPTH = 3\n",
        "BATCH_SIZE = 64\n",
        "EPOCHS = 250\n",
        "SEED = 7"
      ]
    },
    {
      "cell_type": "code",
      "execution_count": 4,
      "metadata": {
        "colab": {
          "base_uri": "https://localhost:8080/"
        },
        "id": "-mbLrElBIQ-2",
        "outputId": "c1cc169b-97d5-47d3-ba6b-7429efa128a4"
      },
      "outputs": [
        {
          "name": "stdout",
          "output_type": "stream",
          "text": [
            "Training data:\n",
            "Found 13625 images belonging to 6 classes.\n",
            "{'buildings': 0, 'forest': 1, 'glacier': 2, 'mountain': 3, 'sea': 4, 'street': 5}\n",
            "Image batch shape: (64, 75, 75, 3)\n",
            "Image labels shape: (64,)\n",
            "\n",
            "Validation data:\n",
            "Found 1703 images belonging to 6 classes.\n",
            "{'buildings': 0, 'forest': 1, 'glacier': 2, 'mountain': 3, 'sea': 4, 'street': 5}\n",
            "Image batch shape: (64, 75, 75, 3)\n",
            "Image labels shape: (64,)\n",
            "\n",
            "Testing data:\n",
            "Found 1706 images belonging to 6 classes.\n",
            "{'buildings': 0, 'forest': 1, 'glacier': 2, 'mountain': 3, 'sea': 4, 'street': 5}\n",
            "Image batch shape: (64, 75, 75, 3)\n",
            "Image labels shape: (64,)\n",
            "\n"
          ]
        }
      ],
      "source": [
        "image_data = ext.getImageData(\n",
        "    train_dir = \"./train\", val_dir = \"./val\", test_dir = \"./test\"\n",
        ").loadImageData(\n",
        "    HEIGHT, WIDTH, DEPTH, BATCH_SIZE, SEED\n",
        ")\n",
        "NUM_OUTPUTS = len(image_data['train'].class_indices)"
      ]
    },
    {
      "cell_type": "code",
      "execution_count": 8,
      "metadata": {
        "colab": {
          "base_uri": "https://localhost:8080/"
        },
        "id": "Asi_t0XrNFSL",
        "outputId": "7d776189-713b-4193-deca-f478f7f0f872"
      },
      "outputs": [
        {
          "name": "stdout",
          "output_type": "stream",
          "text": [
            "Model: \"sequential\"\n",
            "_________________________________________________________________\n",
            " Layer (type)                Output Shape              Param #   \n",
            "=================================================================\n",
            " conv2d (Conv2D)             (None, 75, 75, 64)        1792      \n",
            "                                                                 \n",
            " conv2d_1 (Conv2D)           (None, 75, 75, 64)        36928     \n",
            "                                                                 \n",
            " max_pooling2d (MaxPooling2D  (None, 38, 38, 64)       0         \n",
            " )                                                               \n",
            "                                                                 \n",
            " conv2d_2 (Conv2D)           (None, 38, 38, 128)       73856     \n",
            "                                                                 \n",
            " conv2d_3 (Conv2D)           (None, 38, 38, 128)       147584    \n",
            "                                                                 \n",
            " max_pooling2d_1 (MaxPooling  (None, 19, 19, 128)      0         \n",
            " 2D)                                                             \n",
            "                                                                 \n",
            " conv2d_4 (Conv2D)           (None, 19, 19, 256)       295168    \n",
            "                                                                 \n",
            " conv2d_5 (Conv2D)           (None, 19, 19, 256)       590080    \n",
            "                                                                 \n",
            " conv2d_6 (Conv2D)           (None, 19, 19, 256)       590080    \n",
            "                                                                 \n",
            " max_pooling2d_2 (MaxPooling  (None, 10, 10, 256)      0         \n",
            " 2D)                                                             \n",
            "                                                                 \n",
            " flatten (Flatten)           (None, 25600)             0         \n",
            "                                                                 \n",
            " dense (Dense)               (None, 256)               6553856   \n",
            "                                                                 \n",
            " dropout (Dropout)           (None, 256)               0         \n",
            "                                                                 \n",
            " dense_1 (Dense)             (None, 128)               32896     \n",
            "                                                                 \n",
            " dropout_1 (Dropout)         (None, 128)               0         \n",
            "                                                                 \n",
            " dense_2 (Dense)             (None, 6)                 774       \n",
            "                                                                 \n",
            "=================================================================\n",
            "Total params: 8,323,014\n",
            "Trainable params: 8,323,014\n",
            "Non-trainable params: 0\n",
            "_________________________________________________________________\n"
          ]
        }
      ],
      "source": [
        "model = ext.customModel(\n",
        "    HEIGHT, WIDTH, DEPTH\n",
        ").buildModel(\n",
        "    NUM_OUTPUTS,\n",
        "    optimiser = \"Nadam\",\n",
        "    loss_metric = SparseCategoricalCrossentropy(\n",
        "        from_logits=False)\n",
        ")"
      ]
    },
    {
      "cell_type": "code",
      "execution_count": null,
      "metadata": {
        "id": "cQkEjWUKaRs3"
      },
      "outputs": [],
      "source": [
        "callbacks = [\n",
        "    EarlyStopping(monitor='val_loss', patience = 10, verbose=1),\n",
        "    ModelCheckpoint(\n",
        "        './chk_mdl_wts.hdf5',\n",
        "        save_best_only=True,\n",
        "        monitor='val_Accuracy',\n",
        "        mode='max'\n",
        "      ),\n",
        "    # ReduceLROnPlateau(factor = 0.1, patience = 8)\n",
        "]\n",
        "history = model.fit(\n",
        "    image_data['train'],\n",
        "    validation_data=image_data['val'],\n",
        "    epochs=EPOCHS,\n",
        "    batch_size=BATCH_SIZE, \n",
        "    callbacks=callbacks\n",
        ")\n",
        "model.load_weights(\"./chk_mdl_wts.hdf5\")"
      ]
    },
    {
      "cell_type": "code",
      "execution_count": null,
      "metadata": {
        "id": "2j16MRFQrGc0"
      },
      "outputs": [],
      "source": [
        "ext.save_model(\n",
        "    model,\n",
        "    \"./\",\n",
        "    \"multiclass_image_classification\"\n",
        ")"
      ]
    },
    {
      "cell_type": "code",
      "execution_count": null,
      "metadata": {
        "id": "UBK9ruACZGg4"
      },
      "outputs": [],
      "source": [
        "ext.visualise_performance(history)"
      ]
    },
    {
      "cell_type": "code",
      "execution_count": 10,
      "metadata": {
        "colab": {
          "base_uri": "https://localhost:8080/"
        },
        "id": "FbxbcC8kLMPS",
        "outputId": "62793f1c-eaac-4bb6-9200-6010282607b5"
      },
      "outputs": [
        {
          "name": "stdout",
          "output_type": "stream",
          "text": [
            "Loading Precomputed Model\n",
            "Loaded model from disk\n",
            "Model: \"sequential\"\n",
            "_________________________________________________________________\n",
            " Layer (type)                Output Shape              Param #   \n",
            "=================================================================\n",
            " conv2d (Conv2D)             (None, 75, 75, 64)        1792      \n",
            "                                                                 \n",
            " conv2d_1 (Conv2D)           (None, 75, 75, 64)        36928     \n",
            "                                                                 \n",
            " max_pooling2d (MaxPooling2D  (None, 38, 38, 64)       0         \n",
            " )                                                               \n",
            "                                                                 \n",
            " conv2d_2 (Conv2D)           (None, 38, 38, 128)       73856     \n",
            "                                                                 \n",
            " conv2d_3 (Conv2D)           (None, 38, 38, 128)       147584    \n",
            "                                                                 \n",
            " max_pooling2d_1 (MaxPooling  (None, 19, 19, 128)      0         \n",
            " 2D)                                                             \n",
            "                                                                 \n",
            " conv2d_4 (Conv2D)           (None, 19, 19, 256)       295168    \n",
            "                                                                 \n",
            " conv2d_5 (Conv2D)           (None, 19, 19, 256)       590080    \n",
            "                                                                 \n",
            " conv2d_6 (Conv2D)           (None, 19, 19, 256)       590080    \n",
            "                                                                 \n",
            " max_pooling2d_2 (MaxPooling  (None, 10, 10, 256)      0         \n",
            " 2D)                                                             \n",
            "                                                                 \n",
            " flatten (Flatten)           (None, 25600)             0         \n",
            "                                                                 \n",
            " dense (Dense)               (None, 256)               6553856   \n",
            "                                                                 \n",
            " dropout (Dropout)           (None, 256)               0         \n",
            "                                                                 \n",
            " dense_1 (Dense)             (None, 128)               32896     \n",
            "                                                                 \n",
            " dropout_1 (Dropout)         (None, 128)               0         \n",
            "                                                                 \n",
            " dense_2 (Dense)             (None, 6)                 774       \n",
            "                                                                 \n",
            "=================================================================\n",
            "Total params: 8,323,014\n",
            "Trainable params: 8,323,014\n",
            "Non-trainable params: 0\n",
            "_________________________________________________________________\n",
            "27/27 [==============================] - 12s 439ms/step - loss: 0.3919 - Accuracy: 0.8710\n"
          ]
        },
        {
          "data": {
            "text/plain": [
              "[0.39187848567962646, 0.8710433840751648]"
            ]
          },
          "execution_count": 10,
          "metadata": {},
          "output_type": "execute_result"
        }
      ],
      "source": [
        "model = ext.load_model(\n",
        "    save_dir = \"./\", model_name = \"multiclass_image_classification\"\n",
        ")\n",
        "model.compile(\n",
        "    optimizer = \"Nadam\",\n",
        "    loss = SparseCategoricalCrossentropy(\n",
        "        from_logits=False),\n",
        "    metrics='Accuracy'\n",
        ")\n",
        "model.evaluate(image_data['test'])"
      ]
    },
    {
      "cell_type": "code",
      "execution_count": 11,
      "metadata": {
        "colab": {
          "base_uri": "https://localhost:8080/",
          "height": 532
        },
        "id": "DUZRQEakYgvU",
        "outputId": "4629d7b5-9e46-4b32-a93f-85c1751ee64a"
      },
      "outputs": [
        {
          "name": "stdout",
          "output_type": "stream",
          "text": [
            "27/27 [==============================] - 12s 428ms/step - loss: 0.3919 - Accuracy: 0.8710\n",
            "27/27 [==============================] - 12s 440ms/step\n",
            "['buildings' 'forest' 'glacier' 'mountain' 'sea' 'street']\n"
          ]
        },
        {
          "data": {
            "image/png": "[encoded data removed]",
            "text/plain": [
              "<Figure size 1000x800 with 2 Axes>"
            ]
          },
          "metadata": {},
          "output_type": "display_data"
        }
      ],
      "source": [
        "ext.model_accuracy(\n",
        "    model,\n",
        "    image_data['test']\n",
        ")"
      ]
    }
  ],
  "metadata": {
    "accelerator": "GPU",
    "colab": {
      "collapsed_sections": [],
      "provenance": []
    },
    "kernelspec": {
      "display_name": "Python 3.10.4 ('py-venv')",
      "language": "python",
      "name": "python3"
    },
    "language_info": {
      "codemirror_mode": {
        "name": "ipython",
        "version": 3
      },
      "file_extension": ".py",
      "mimetype": "text/x-python",
      "name": "python",
      "nbconvert_exporter": "python",
      "pygments_lexer": "ipython3",
      "version": "3.10.4"
    },
    "vscode": {
      "interpreter": {
        "hash": "4cf6f06ab95c6f07fbeb5dee7633569574f833f6fc8013d93c08679009f5afcf"
      }
    }
  },
  "nbformat": 4,
  "nbformat_minor": 0
}
